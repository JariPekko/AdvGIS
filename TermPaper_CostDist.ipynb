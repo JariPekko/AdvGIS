{
 "cells": [
  {
   "cell_type": "markdown",
   "metadata": {},
   "source": [
    "# Advanced GIS Term Paper: Wild Boar Risk for Vineyards\n",
    "\n",
    "## Part 2: Cost Distance\n"
   ]
  },
  {
   "cell_type": "code",
   "execution_count": 2,
   "metadata": {},
   "outputs": [],
   "source": [
    "import arcpy\n",
    "from arcpy import env\n",
    "from arcpy.sa import *"
   ]
  },
  {
   "cell_type": "code",
   "execution_count": 7,
   "metadata": {},
   "outputs": [
    {
     "name": "stdout",
     "output_type": "stream",
     "text": [
      "333200,000629869 5504499,96351364 342975,000629869 5519269,96351364 NaN NaN NaN NaN\n"
     ]
    }
   ],
   "source": [
    "# set environment extent to mapping grid\n",
    "arcpy.env.extent = arcpy.Raster(\"Suitability_combined\").extent\n",
    "print(arcpy.env.extent)"
   ]
  },
  {
   "cell_type": "markdown",
   "metadata": {},
   "source": [
    "#### Visibility\n",
    "Wild Boar likes to move in Areas of low visibility <br>"
   ]
  },
  {
   "cell_type": "code",
   "execution_count": 3,
   "metadata": {},
   "outputs": [],
   "source": [
    "nDSM = arcpy.Raster(\"DSM\") - arcpy.Raster(\"DEM_5m_update.tif\")"
   ]
  },
  {
   "cell_type": "code",
   "execution_count": 12,
   "metadata": {},
   "outputs": [],
   "source": [
    "nDSM.save(r\"D:\\Geoinformatik\\Advanced GIS\\AdvGIS term paper\\AdvGIS term paper.gdb\\nDSM\")"
   ]
  },
  {
   "cell_type": "markdown",
   "metadata": {},
   "source": [
    "Wie Sichtbarkeit ermitteln?\n",
    "Jeder Pixel muss eine Arte Sichtbarkeit erhalten\n",
    "Idee: Gridded Points und dazu Viewshed erstellen\n",
    "Resample Raster --> Raster to Points --> Viewshed\n",
    "Problem: Betrachter Punkte liegen auf dem Surface Raster, also auch auf einem Baum\n",
    "Die Punkte müssen also auf DEM Level gesenkt werden\n",
    "Idee: Punkte erstellen und Pixel wo Punkte liegen Wert von DEM einsetzen\n",
    "Gibt Literatur Hinweis wie weit die Punke auseinander liegen müssten? Nein.\n",
    "Hier is das Problem, dass der Betrachter, wenn er im Wald steht gar nichts sehen kann, da alle Pixel um ihn herum zu hoch sind.\n",
    "\n",
    "DSM has 5m resolution --> would mean ~6 million points --> too much calculation for viewshed\n",
    "Reduction of data: Exclude some areas where points can be because we know the visibility\n",
    "\n",
    "Tool to create neighborhood statistics and smooth with different kernels: https://pro.arcgis.com/de/pro-app/tool-reference/spatial-analyst/focal-statistics.htm\n",
    "\n",
    "Solution was to use point of view of boar and describe visibility by neighborhood statistic of every pixel\n"
   ]
  },
  {
   "cell_type": "code",
   "execution_count": 2,
   "metadata": {},
   "outputs": [],
   "source": [
    "# Calculating NDVI\n",
    "# Downloaded and imported Sentinel 2 data from September 2018\n",
    "# Projected and clipped manually with geoprocessing tools\n",
    "b4 = arcpy.Raster(\"B04_UTM32_Clip\")\n",
    "b8 = arcpy.Raster(\"B08_UTM32_Clip\")\n",
    "NDVI_sep18 = ((b8 - b4)/(b8 + b4))"
   ]
  },
  {
   "cell_type": "code",
   "execution_count": 3,
   "metadata": {},
   "outputs": [],
   "source": [
    "NDVI_sep18.save(r\"D:\\Geoinformatik\\Advanced GIS\\AdvGIS term paper\\AdvGIS term paper.gdb\\NDVI_sep18\")"
   ]
  },
  {
   "cell_type": "markdown",
   "metadata": {},
   "source": [
    "#### Looking for options to eliminate elec lines and smooth image to get protection of visibility"
   ]
  },
  {
   "cell_type": "code",
   "execution_count": 8,
   "metadata": {},
   "outputs": [],
   "source": [
    "#Trying to find the elictricity lines (and other non vegetation tall objects)\n",
    "Elec = (NDVI_sep18 > 0.5) & (arcpy.Raster(\"nDSM\") > 20)"
   ]
  },
  {
   "cell_type": "code",
   "execution_count": 11,
   "metadata": {},
   "outputs": [],
   "source": [
    "# Trying to eliminate electric lines (tall buildings)\n",
    "nDSM = arcpy.Raster(\"nDSM\")\n",
    "nDSM_h35 = Con( (nDSM > 35) , 0.5, nDSM)"
   ]
  },
  {
   "cell_type": "code",
   "execution_count": 6,
   "metadata": {},
   "outputs": [],
   "source": [
    "# just smoothing to get neighborhood values\n",
    "nDSM_rad4_median = FocalStatistics(\"nDSM\", NbrCircle(4, \"CELL\"), \n",
    "                               \"PERCENTILE\", \"DATA\", percentile_value = 50)"
   ]
  },
  {
   "cell_type": "code",
   "execution_count": 7,
   "metadata": {},
   "outputs": [],
   "source": [
    "nDSM_rad7_median = FocalStatistics(\"nDSM\", NbrCircle(7, \"CELL\"), \n",
    "                               \"PERCENTILE\", \"DATA\", percentile_value = 50)"
   ]
  },
  {
   "cell_type": "code",
   "execution_count": 8,
   "metadata": {},
   "outputs": [],
   "source": [
    "nDSM_rad7_median.save(r\"D:\\Geoinformatik\\Advanced GIS\\AdvGIS term paper\\AdvGIS term paper.gdb\\nDSM_rad7_median\")"
   ]
  },
  {
   "cell_type": "code",
   "execution_count": 34,
   "metadata": {},
   "outputs": [],
   "source": [
    "# Trying filtering the nDSM\n",
    "nDSM_rad7_percentile25 = FocalStatistics(\"nDSM\", NbrCircle(7, \"CELL\"), \n",
    "                               \"PERCENTILE\", \"DATA\", percentile_value = 25)"
   ]
  },
  {
   "cell_type": "code",
   "execution_count": 18,
   "metadata": {},
   "outputs": [],
   "source": [
    "# Trying filtering the nDSM\n",
    "nDSM_rect5_percentile25 = FocalStatistics(\"nDSM\", NbrRectangle(5,5, \"CELL\"), \n",
    "                               \"PERCENTILE\", \"DATA\", percentile_value = 25)"
   ]
  },
  {
   "cell_type": "code",
   "execution_count": 35,
   "metadata": {},
   "outputs": [],
   "source": [
    "# Trying filtering the nDSM\n",
    "nDSM_annulus26_percentile20 = FocalStatistics(\"nDSM\", NbrAnnulus(2,6, \"CELL\"), \n",
    "                               \"PERCENTILE\", \"DATA\", percentile_value = 20)"
   ]
  },
  {
   "cell_type": "code",
   "execution_count": null,
   "metadata": {},
   "outputs": [],
   "source": [
    "# Trying to find edges\n",
    "nDSM_edges_radius3 = FocalStatistics(\"nDSM\", NbrCircle(3, \"CELL\"), \n",
    "                               \"Range\", \"DATA\")"
   ]
  },
  {
   "cell_type": "code",
   "execution_count": 30,
   "metadata": {},
   "outputs": [],
   "source": [
    "# nDSM_annulus24_percentile10 looks like a good smoothing\n",
    "nDSM_annulus26_percentile20.save(r\"D:\\Geoinformatik\\Advanced GIS\\AdvGIS term paper\\AdvGIS term paper.gdb\\nDSM_annulus26_percentile20\")"
   ]
  },
  {
   "cell_type": "code",
   "execution_count": 37,
   "metadata": {},
   "outputs": [],
   "source": [
    "# nDSM_rad7_percentile25 looks better\n",
    "nDSM_rad7_percentile25.save(r\"D:\\Geoinformatik\\Advanced GIS\\AdvGIS term paper\\AdvGIS term paper.gdb\\nDSM_rad7_percentile25\")"
   ]
  },
  {
   "cell_type": "code",
   "execution_count": 36,
   "metadata": {},
   "outputs": [],
   "source": [
    "## Smoothing des elec-befreiten Bildes\n",
    "nDSM_ann26_per20_mean5 = FocalStatistics(\"nDSM_annulus26_percentile20\", NbrCircle(5, \"CELL\"), \n",
    "                               \"MEAN\", \"DATA\")"
   ]
  },
  {
   "cell_type": "markdown",
   "metadata": {},
   "source": [
    "### Filtering of Elec lines and creating visibility raster\n",
    "decided against manuell filtering of elec lines\n",
    "tried different methods: annulus26_percentile20-filter worked well in eliminating the elec lines\n",
    "also tried identifying elec lines, so they can be dealt with. Did not work well enough\n",
    "tried identifying edge by compute range of moving window. In Theory they would have had high ranges, but it didnt work well enough\n",
    "show edges map (nDSM_edges_radius3): Was one approach to identify lines. Could be continued by using annulus_percentile_filter only on smoothing areas with edges. This idea was not followed since the smoothing of the whole area is beneficial for getting a sense of visibility\n",
    "I did not want to smooth the edges of the elec lines, i wanted to eliminate them. With smoothing the pixels would still have a high height and would be considered a beneficial visibility, but they should have no effect.\n",
    "Disadvantage: Small strips of Trees or brushes also get eliminated\n",
    "Result is very close to the corine landcover data of areas for woods"
   ]
  },
  {
   "cell_type": "raw",
   "metadata": {},
   "source": [
    "#### Creating raster for visibility protection suitability\n",
    "-Above a certain height of a neighborhood does not offer more protection (neighborhood percentile25 value > 4)\n",
    "-very low values are combined to account for negative values and generally for errors of the nDSM"
   ]
  },
  {
   "cell_type": "code",
   "execution_count": 38,
   "metadata": {},
   "outputs": [],
   "source": [
    "# upper limit\n",
    "VisProtection_nb4 = arcpy.Raster(\"nDSM_rad7_percentile25\")\n",
    "VisProtection_nb4 = Con( (VisProtection_nb4 > 4) , 4, VisProtection_nb4)"
   ]
  },
  {
   "cell_type": "code",
   "execution_count": 40,
   "metadata": {},
   "outputs": [],
   "source": [
    "# lower limit\n",
    "VisProtection_nb02 = Con( (VisProtection_nb4 < 0.2) , 0.2, VisProtection_nb4)"
   ]
  },
  {
   "cell_type": "code",
   "execution_count": 41,
   "metadata": {},
   "outputs": [],
   "source": [
    "VisProtection_nb02.save(r\"D:\\Geoinformatik\\Advanced GIS\\AdvGIS term paper\\AdvGIS term paper.gdb\\VisProtection_nb02\")"
   ]
  },
  {
   "cell_type": "code",
   "execution_count": 26,
   "metadata": {},
   "outputs": [],
   "source": [
    "# Trying Heights + NDVI to only have high areas that are vegetation\n",
    "VisProtection02_veg02 = Con( ((arcpy.Raster(\"VisProtection_nb02\") > 0.2) & (arcpy.Raster(\"NDVI_sep18\") > 0.2)) , \n",
    "                            arcpy.Raster(\"VisProtection_nb02\"), 0)"
   ]
  },
  {
   "cell_type": "code",
   "execution_count": 41,
   "metadata": {},
   "outputs": [],
   "source": [
    "VisProtection02_veg02.save(r\"D:\\Geoinformatik\\Advanced GIS\\AdvGIS term paper\\AdvGIS term paper.gdb\\VisProtection02_veg02\")"
   ]
  },
  {
   "cell_type": "code",
   "execution_count": 30,
   "metadata": {},
   "outputs": [],
   "source": [
    "# Checking  low height areas with high ndvi\n",
    "lowHeight01_highNDVI06 = Con( ((arcpy.Raster(\"nDSM_rad7_percentile25\") < 0.1)  & (arcpy.Raster(\"NDVI_sep18\") > 0.6)) , \n",
    "                            arcpy.Raster(\"NDVI_sep18\"), \"\")"
   ]
  },
  {
   "cell_type": "markdown",
   "metadata": {},
   "source": [
    "# Cost Factors\n",
    "Visibility, Land cover class, NDVI <br>\n",
    "NDVI thought about using NDVI as cost factor (boar likes to walk in vegetated areas) but low agrag field have high NDVI and would distort result to much"
   ]
  },
  {
   "cell_type": "markdown",
   "metadata": {},
   "source": [
    "#### Visibility Cost"
   ]
  },
  {
   "cell_type": "code",
   "execution_count": 31,
   "metadata": {},
   "outputs": [],
   "source": [
    "Vis_cost = 1 - (arcpy.Raster(\"VisProtection02_veg02\")/4)"
   ]
  },
  {
   "cell_type": "code",
   "execution_count": 40,
   "metadata": {},
   "outputs": [],
   "source": [
    "Vis_cost.save(r\"D:\\Geoinformatik\\Advanced GIS\\AdvGIS term paper\\AdvGIS term paper.gdb\\Vis_cost\")"
   ]
  },
  {
   "cell_type": "code",
   "execution_count": 2,
   "metadata": {},
   "outputs": [],
   "source": [
    "Vis_cost_x9p1 = arcpy.Raster(\"Vis_cost\")*9 + 1"
   ]
  },
  {
   "cell_type": "code",
   "execution_count": 3,
   "metadata": {},
   "outputs": [],
   "source": [
    "Vis_cost_x9p1.save(r\"D:\\Geoinformatik\\Advanced GIS\\AdvGIS term paper\\AdvGIS term paper.gdb\\Vis_cost_x9p1\")"
   ]
  },
  {
   "cell_type": "markdown",
   "metadata": {},
   "source": [
    "#### Land Cover Cost"
   ]
  },
  {
   "cell_type": "code",
   "execution_count": 6,
   "metadata": {},
   "outputs": [],
   "source": [
    "# creating raster version of land cover classes\n",
    "Corine_raster = arcpy.PolygonToRaster_conversion(\"CLC5_2018_Edit_Project\", \"Klassenname\", \n",
    "                                 \"Corine_raster\", \"MAXIMUM_AREA\", cellsize = 5)"
   ]
  },
  {
   "cell_type": "code",
   "execution_count": 9,
   "metadata": {},
   "outputs": [],
   "source": [
    "Corine_raster_CLC18 = arcpy.PolygonToRaster_conversion(\"CLC5_2018_Edit_Project\", \"CLC18\", \n",
    "                                 \"Corine_raster_CLC18\", \"MAXIMUM_AREA\", cellsize = 5)"
   ]
  },
  {
   "cell_type": "markdown",
   "metadata": {},
   "source": [
    "#### Costs for land cover types:\n",
    "Discontinuous urban fabric - 1\n",
    "Industrial or commercial units - 1\n",
    "Road and rail networks and associated land - 0 (dealt with Atkis roads)\n",
    "Mineral extraction sites - 0.8\n",
    "Dump sites - 0.8\n",
    "Construction sites - 1\n",
    "Green urban areas - 0.7\n",
    "Sport and leisure facilities - 0.7\n",
    "Non-irrigated arable land - 0\n",
    "Vineyards - 0\n",
    "Fruit trees and berry plantations - 0\n",
    "Pastures - 0\n",
    "Broad-leaved forest - 0\n",
    "3.1.2 Coniferous forest - 0\n",
    "3.1.3 Mixed forest - 0 \n",
    "3.2.1 Natural grassland - 0 \n",
    "3.2.4 Transitional woodland/shrub - 0 \n",
    "4.1.1 Inland marshes - 0.6\n",
    "5.1.1 Water courses - 1\n",
    "5.1.2 Water bodies - 1\n",
    "Abandoned Vineyard - 0"
   ]
  },
  {
   "cell_type": "code",
   "execution_count": 29,
   "metadata": {},
   "outputs": [],
   "source": [
    "# reclassify corine raster\n",
    "# values from above but ranging from 0 to 10\n",
    "Corine_raster_cost = Reclassify(\"Corine_raster\", \"Value\", \n",
    "                         RemapValue([[1,10],[2,10],[3,0],[4,8],[5,8],[6,10],[7,7],\n",
    "                                     [8,7],[9,0],[10,0],[11,0],[12,0],[13,0],[14,0],\n",
    "                                     [15,0],[16,0],[17,0],[18,6],[19,10],[20,10],[21,0], [\"NoData\", 10]]))"
   ]
  },
  {
   "cell_type": "code",
   "execution_count": 30,
   "metadata": {},
   "outputs": [],
   "source": [
    "# change 0s to 1\n",
    "Corine_raster_cost = Con(Corine_raster_cost == 0, 1, Corine_raster_cost)"
   ]
  },
  {
   "cell_type": "code",
   "execution_count": 31,
   "metadata": {},
   "outputs": [],
   "source": [
    "Corine_raster_cost.save(r\"D:\\Geoinformatik\\Advanced GIS\\AdvGIS term paper\\AdvGIS term paper.gdb\\Corine_raster_cost\")"
   ]
  },
  {
   "cell_type": "markdown",
   "metadata": {},
   "source": [
    "#### Cost for roads\n",
    "Erase urban areas from roads multiline to just have roads outside of urban areas since urban areas already have a negative effect"
   ]
  },
  {
   "cell_type": "code",
   "execution_count": 1,
   "metadata": {},
   "outputs": [],
   "source": [
    "# create buffer around roads\n",
    "Roads_buffer50 = arcpy.Buffer_analysis(\"atkis_road_Clip1\", \"Roads_buffer50\", \"50 Meters\", \"FULL\", \n",
    "                      \"ROUND\", \"ALL\")"
   ]
  },
  {
   "cell_type": "code",
   "execution_count": null,
   "metadata": {},
   "outputs": [],
   "source": [
    "# Corine land cover polygons --> select by attribute manually --> urban areas, industry, dump sites, Sport and leisure facilities, construction sites\n",
    "# export to polygon\n",
    "# erase those from roads_buffer (erase tool)"
   ]
  },
  {
   "cell_type": "code",
   "execution_count": 2,
   "metadata": {},
   "outputs": [],
   "source": [
    "# convert to Raster\n",
    "Roads50_raster = arcpy.PolygonToRaster_conversion(\"Roads_buffer50_Erase\", \"Shape_Area\", \n",
    "                                 \"Roads50_raster\", \"MAXIMUM_AREA\", cellsize = 5)"
   ]
  },
  {
   "cell_type": "code",
   "execution_count": 3,
   "metadata": {},
   "outputs": [],
   "source": [
    "# Road cost = 3, NoData = 1\n",
    "Roads50_weight3_cost = Con(IsNull(arcpy.Raster(\"Roads50_raster\")), 1, 3)"
   ]
  },
  {
   "cell_type": "code",
   "execution_count": 4,
   "metadata": {},
   "outputs": [],
   "source": [
    "arcpy.Raster(\"Roads50_weight3_cost\").save(r\"D:\\Geoinformatik\\Advanced GIS\\AdvGIS term paper\\AdvGIS term paper.gdb\\Roads50_weight3_cost\")"
   ]
  },
  {
   "cell_type": "code",
   "execution_count": 6,
   "metadata": {},
   "outputs": [],
   "source": [
    "# Adding roads cost to Corine costs\n",
    "Corine_roads3_cost = Con(arcpy.Raster(\"Corine_raster_cost\") == 1, arcpy.Raster(\"Roads50_weight3_cost\"), arcpy.Raster(\"Corine_raster_cost\"))"
   ]
  },
  {
   "cell_type": "code",
   "execution_count": 11,
   "metadata": {},
   "outputs": [],
   "source": [
    "Corine_roads3_cost.save(r\"D:\\Geoinformatik\\Advanced GIS\\AdvGIS term paper\\AdvGIS term paper.gdb\\Corine_roads3_cost\")"
   ]
  },
  {
   "cell_type": "markdown",
   "metadata": {},
   "source": [
    "#### Comined cost\n",
    "Avoidance of human activities more important than visibility"
   ]
  },
  {
   "cell_type": "code",
   "execution_count": 10,
   "metadata": {},
   "outputs": [],
   "source": [
    "Combined_r3_cost0406 = 0.4 * arcpy.Raster(\"Vis_cost_x9p1\") + 0.6 * arcpy.Raster(\"Corine_roads3_cost\")"
   ]
  },
  {
   "cell_type": "code",
   "execution_count": 36,
   "metadata": {},
   "outputs": [],
   "source": [
    "Combined_r3_cost0406.save(r\"D:\\Geoinformatik\\Advanced GIS\\AdvGIS term paper\\AdvGIS term paper.gdb\\Combined_r3_cost0406\")"
   ]
  },
  {
   "cell_type": "code",
   "execution_count": 41,
   "metadata": {},
   "outputs": [],
   "source": [
    "# Trying more extreme cost raster. power of 2\n",
    "Combined_r3_cost0406p2 = Combined_r3_cost0406 ** 2"
   ]
  },
  {
   "cell_type": "code",
   "execution_count": 42,
   "metadata": {},
   "outputs": [],
   "source": [
    "Combined_r3_cost0406p2.save(r\"D:\\Geoinformatik\\Advanced GIS\\AdvGIS term paper\\AdvGIS term paper.gdb\\Combined_r3_cost0406p2\")"
   ]
  },
  {
   "cell_type": "markdown",
   "metadata": {},
   "source": [
    "# Cost Distance\n",
    "Distance Accumulation, Optimal Path, Barrier"
   ]
  },
  {
   "cell_type": "code",
   "execution_count": null,
   "metadata": {},
   "outputs": [],
   "source": [
    "# Creating barrier manually with Corine LC (water bodies)\n",
    "# Creating Core forest manually with Buffer, Erase, ... tools\n",
    "    # identify small vegetated gaps in forest and declare them as forest\n",
    "    # dissolve forest, add 300 meter ring outside of AOI to not cut off the \n",
    "        # outer border of the forests bc of being at the edge of the AOI \n",
    "    # cutting of 300m buffer to get core forest\n",
    "    # Multipart to Singlepart forest areas to get individual forests\n",
    "    # Multipart to Singlepart vineyard areas to get inidividual vineyards"
   ]
  },
  {
   "cell_type": "code",
   "execution_count": 56,
   "metadata": {},
   "outputs": [
    {
     "data": {
      "text/html": [
       "<h2>Output</h2>a Layer object<h2>Messages</h2>Start Time: Freitag, 22. Januar 2021 17:41:27<br/>Succeeded at Freitag, 22. Januar 2021 17:41:27 (Elapsed Time: 0,51 seconds)<br/><style>.rendered_html td, .rendered_html th {text-align: left;}.rendered_html tbody {border: 1px solid black;}</style>"
      ],
      "text/plain": [
       "<Result 'Wald_Kern300_single'>"
      ]
     },
     "execution_count": 56,
     "metadata": {},
     "output_type": "execute_result"
    }
   ],
   "source": [
    "# Adding amount of boars\n",
    "# 250 Tiere pro 5000 Hektar/10000m, (consideration from Brauchler)\n",
    "arcpy.CalculateField_management(\"Wald_Kern300_single\", \"ExpectedBoars\", \n",
    "                                'math.ceil(!Shape_Area! / 10000 / 5000 * 250)', \"PYTHON3\")"
   ]
  },
  {
   "cell_type": "code",
   "execution_count": 60,
   "metadata": {},
   "outputs": [
    {
     "data": {
      "text/html": [
       "<h2>Output</h2>a Layer object<h2>Messages</h2>Start Time: Freitag, 22. Januar 2021 17:48:24<br/>Succeeded at Freitag, 22. Januar 2021 17:48:24 (Elapsed Time: 0,48 seconds)<br/><style>.rendered_html td, .rendered_html th {text-align: left;}.rendered_html tbody {border: 1px solid black;}</style>"
      ],
      "text/plain": [
       "<Result 'Wald_Kern300_single'>"
      ]
     },
     "execution_count": 60,
     "metadata": {},
     "output_type": "execute_result"
    }
   ],
   "source": [
    "# field for example points\n",
    "arcpy.CalculateField_management(\"Wald_Kern300_single\", \"ExamplePoints\", \n",
    "                                'math.ceil((!ExpectedBoars! - 1) /20)', \"PYTHON3\")"
   ]
  },
  {
   "cell_type": "code",
   "execution_count": 46,
   "metadata": {},
   "outputs": [
    {
     "data": {
      "text/html": [
       "<h2>Output</h2>a Layer object<h2>Messages</h2>Start Time: Freitag, 22. Januar 2021 16:58:40<br/>Succeeded at Freitag, 22. Januar 2021 16:58:40 (Elapsed Time: 0,48 seconds)<br/><style>.rendered_html td, .rendered_html th {text-align: left;}.rendered_html tbody {border: 1px solid black;}</style>"
      ],
      "text/plain": [
       "<Result 'Wald_Kern300_single'>"
      ]
     },
     "execution_count": 46,
     "metadata": {},
     "output_type": "execute_result"
    }
   ],
   "source": [
    "# Adding a size factor to the core forests bc there are potentially more boars\n",
    "# SizeStart \n",
    "arcpy.CalculateField_management(\"Wald_Kern300_single\", \"SizeStart\", \n",
    "                                '!ExpectedBoars! * (-200) ', \"PYTHON3\")"
   ]
  },
  {
   "cell_type": "code",
   "execution_count": 38,
   "metadata": {},
   "outputs": [
    {
     "data": {
      "text/html": [
       "<h2>Output</h2>a Layer object<h2>Messages</h2>Start Time: Freitag, 22. Januar 2021 16:01:03<br/>Succeeded at Freitag, 22. Januar 2021 16:01:03 (Elapsed Time: 0,50 seconds)<br/><style>.rendered_html td, .rendered_html th {text-align: left;}.rendered_html tbody {border: 1px solid black;}</style>"
      ],
      "text/plain": [
       "<Result 'Wald_Kern300_single'>"
      ]
     },
     "execution_count": 38,
     "metadata": {},
     "output_type": "execute_result"
    }
   ],
   "source": [
    "# SizeFactor\n",
    "arcpy.CalculateField_management(\"Wald_Kern300_single\", \"SizeFactor\", \n",
    "                                '(1 / (!ExpectedBoars!) + 1)**5', \"PYTHON3\")"
   ]
  },
  {
   "cell_type": "markdown",
   "metadata": {},
   "source": [
    "#### Points for boars"
   ]
  },
  {
   "cell_type": "code",
   "execution_count": 51,
   "metadata": {},
   "outputs": [
    {
     "data": {
      "text/html": [
       "<h2>Output</h2>D:\\Geoinformatik\\Advanced GIS\\AdvGIS term paper\\AdvGIS term paper.gdb\\samplepoints_ExpectedBoars<h2>Messages</h2>Start Time: Freitag, 22. Januar 2021 17:35:18<br/>Succeeded at Freitag, 22. Januar 2021 17:35:19 (Elapsed Time: 0,83 seconds)<br/><style>.rendered_html td, .rendered_html th {text-align: left;}.rendered_html tbody {border: 1px solid black;}</style>"
      ],
      "text/plain": [
       "<Result 'D:\\\\Geoinformatik\\\\Advanced GIS\\\\AdvGIS term paper\\\\AdvGIS term paper.gdb\\\\samplepoints_ExpectedBoars'>"
      ]
     },
     "execution_count": 51,
     "metadata": {},
     "output_type": "execute_result"
    }
   ],
   "source": [
    "arcpy.CreateRandomPoints_management(\"\", \"samplepoints_ExpectedBoars\", \n",
    "                                    \"Wald_Kern300_single\", number_of_points_or_field = \"ExpectedBoars\", minimum_allowed_distance = \"150 Meters\")"
   ]
  },
  {
   "cell_type": "code",
   "execution_count": 61,
   "metadata": {},
   "outputs": [
    {
     "data": {
      "text/html": [
       "<h2>Output</h2>D:\\Geoinformatik\\Advanced GIS\\AdvGIS term paper\\AdvGIS term paper.gdb\\example_points<h2>Messages</h2>Start Time: Freitag, 22. Januar 2021 17:48:42<br/>WARNING 000983: The specified number of points could not be created in all cases due to restrictions from the minimum allowed distance.<br/>Succeeded at Freitag, 22. Januar 2021 17:48:43 (Elapsed Time: 0,73 seconds)<br/><style>.rendered_html td, .rendered_html th {text-align: left;}.rendered_html tbody {border: 1px solid black;}</style>"
      ],
      "text/plain": [
       "<Result 'D:\\\\Geoinformatik\\\\Advanced GIS\\\\AdvGIS term paper\\\\AdvGIS term paper.gdb\\\\example_points'>"
      ]
     },
     "execution_count": 61,
     "metadata": {},
     "output_type": "execute_result"
    }
   ],
   "source": [
    "# example points to show examplatory paths to show how the cost raster influences the modell\n",
    "arcpy.CreateRandomPoints_management(\"\", \"example_points\", \"Wald_Kern300_single\", \n",
    "                                    number_of_points_or_field = \"ExamplePoints\", minimum_allowed_distance = \"1500 Meters\")"
   ]
  },
  {
   "cell_type": "markdown",
   "metadata": {},
   "source": [
    "#### Cleaning Vineyard polygons"
   ]
  },
  {
   "cell_type": "code",
   "execution_count": null,
   "metadata": {},
   "outputs": [],
   "source": [
    "# Delete very small polygons (artifacts from digitization)\n",
    "# visually inspected how large the correct polygons are\n",
    "# selected areas larger than 1000m2 and exported those "
   ]
  },
  {
   "cell_type": "markdown",
   "metadata": {},
   "source": [
    "#### Parameters for Path Distance"
   ]
  },
  {
   "cell_type": "code",
   "execution_count": null,
   "metadata": {},
   "outputs": [],
   "source": [
    "# Path Distance Parameters for PathDis_Wald4:\n",
    "# cost raster: Combined_r3_cost0406p2\n",
    "# Input surface raster: DEM\n",
    "# Accumulative cost resistance raster: 0.002\n",
    "# Start Cost: Forest StartSize"
   ]
  },
  {
   "cell_type": "code",
   "execution_count": 3,
   "metadata": {},
   "outputs": [],
   "source": [
    "# Second Path distance calculation to show result without start size\n",
    "PathDis_ohneStartSize = PathDistance(\"Wald_Kern300_single\", \"Combined_r3_cost0406p2\", \"DEM_5m_update.tif\",\n",
    "                     source_resistance_rate = 0.002)"
   ]
  },
  {
   "cell_type": "markdown",
   "metadata": {},
   "source": [
    "### Beispielhafte Routen von Wildschweinen"
   ]
  },
  {
   "cell_type": "code",
   "execution_count": 2,
   "metadata": {},
   "outputs": [],
   "source": [
    "# creating list\n",
    "points_list = []\n"
   ]
  },
  {
   "cell_type": "code",
   "execution_count": 4,
   "metadata": {},
   "outputs": [
    {
     "name": "stdout",
     "output_type": "stream",
     "text": [
      "['TTSample13', 'TTSample10', 'TTSample8', 'TTSample7', 'TTSample6', 'TTSample2', 'TTSample1']\n"
     ]
    }
   ],
   "source": [
    "# filling list with point layer names\n",
    "pointLayer_names = [\"TTSample13\", \"TTSample10\", \"TTSample8\", \"TTSample7\", \"TTSample6\", \"TTSample2\",\"TTSample1\"]\n",
    "print(pointLayer_names)"
   ]
  },
  {
   "cell_type": "code",
   "execution_count": 6,
   "metadata": {},
   "outputs": [],
   "source": [
    "# create back raster variable to temporarily store back direction raster\n",
    "back = arcpy.Raster(\"back\")"
   ]
  },
  {
   "cell_type": "code",
   "execution_count": 7,
   "metadata": {},
   "outputs": [
    {
     "name": "stdout",
     "output_type": "stream",
     "text": [
      "TTSample13 done\n",
      "TTSample10 done\n",
      "TTSample8 done\n",
      "TTSample7 done\n",
      "TTSample6 done\n",
      "TTSample2 done\n",
      "TTSample1 done\n"
     ]
    }
   ],
   "source": [
    "# compute distAcc and opiPaths\n",
    "for point in pointLayer_names:\n",
    "    dist_acc = DistanceAccumulation(point, in_surface_raster = \"DEM_5m_update.tif\", \n",
    "                                    in_cost_raster = \"Combined_r3_cost0406p2\", out_back_direction_raster = back)\n",
    "    OptimalPathAsLine(\"Vineyards_aggr_sample\", dist_acc, back, point + \"_noPower\")\n",
    "    print(point + \" done\")\n",
    "\n"
   ]
  }
 ],
 "metadata": {
  "kernelspec": {
   "display_name": "ArcGISPro",
   "language": "Python",
   "name": "python3"
  },
  "language_info": {
   "file_extension": ".py",
   "name": "python",
   "version": "3"
  }
 },
 "nbformat": 4,
 "nbformat_minor": 2
}
