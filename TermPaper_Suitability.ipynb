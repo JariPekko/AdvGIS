{
 "cells": [
  {
   "cell_type": "markdown",
   "metadata": {},
   "source": [
    "# Advanced GIS Term Paper: Wild Boar Risk for Vineyards\n",
    "\n",
    "## Part 1: Vineyard Suitability\n"
   ]
  },
  {
   "cell_type": "code",
   "execution_count": 1,
   "metadata": {},
   "outputs": [],
   "source": [
    "import arcpy\n",
    "from arcpy import env\n",
    "# import spatial analyst package for radiation tools\n",
    "from arcpy.sa import *"
   ]
  },
  {
   "cell_type": "code",
   "execution_count": null,
   "metadata": {},
   "outputs": [],
   "source": [
    "# importing data manually\n",
    "\n",
    "# Mapping extent\n",
    "# Atkis Roads and Tracks\n",
    "# DEM, DSM\n",
    "# Corine Landcover Germany 2018 + manually digitized Abandoned Vineyards"
   ]
  },
  {
   "cell_type": "code",
   "execution_count": null,
   "metadata": {},
   "outputs": [],
   "source": [
    "# DEM derived Suitability factors\n",
    "# Slope, Elevation\n",
    "\n",
    "# DSM derived Suitability factors\n",
    "# Solar Radiation\n",
    "\n",
    "# Atkis: Distance to Roads/Tracks (Accessability)\n",
    "\n",
    "# Corine LC\n",
    "# Distance to Water Bodies (disregarded)\n",
    "# Areas with different use that can not easily be converted (settlements,...)\n",
    "\n",
    "# RLP Weinbergbodenkarte\n",
    "# Frost danger areas (disregarded)"
   ]
  },
  {
   "cell_type": "code",
   "execution_count": 6,
   "metadata": {},
   "outputs": [],
   "source": [
    "# Environment settings\n",
    "arcpy.ResetEnvironments()"
   ]
  },
  {
   "cell_type": "code",
   "execution_count": 3,
   "metadata": {},
   "outputs": [],
   "source": [
    "# Slope\n",
    "slope = Slope(\"DEM_5m_update.tif\", output_measurement = \"PERCENT_RISE\")"
   ]
  },
  {
   "cell_type": "code",
   "execution_count": 34,
   "metadata": {},
   "outputs": [],
   "source": [
    "# save slope\n",
    "slope.save(\"D:\\Geoinformatik\\Advanced GIS\\AdvGIS term paper\\AdvGIS term paper.gdb\\slope\")"
   ]
  },
  {
   "cell_type": "markdown",
   "metadata": {},
   "source": [
    "### Slope\n",
    "Wichtiger Aspekt der Hangneigung ist die erhöhte Sonneneinstrahlung. Diese Bedingung wird allerdings hier <br>\n",
    "durch die Radiation angedeckt, sodass ein sehr hoher slope Wert negativ ist und deshalb abgelehnt wird <br>\n",
    "Die Erosion und der Arbeitsaufwand sind dann zu hoch <br>\n",
    "100% als Maximum gewählt, da eine Weinbaufläche im südlichen Teil eine große Fläche mit 90%-100% Steigung hat<br>\n",
    "Höhere Werte als 100% gibt es kaum in Weinbauflächen im Untersuchungsgebiet und hier wird für die Arbeit angenommen,<br>\n",
    "dass es aufgrund der erschwerten Arbeit und höheren Erosion ungeeignet ist für Weinbau"
   ]
  },
  {
   "cell_type": "code",
   "execution_count": 4,
   "metadata": {},
   "outputs": [],
   "source": [
    "# Layer with Slope < 100%\n",
    "Slope100 = slope < 100"
   ]
  },
  {
   "cell_type": "code",
   "execution_count": 6,
   "metadata": {},
   "outputs": [],
   "source": [
    "Slope100.save(\"D:\\Geoinformatik\\Advanced GIS\\AdvGIS term paper\\AdvGIS term paper.gdb\\Slope100\")"
   ]
  },
  {
   "cell_type": "markdown",
   "metadata": {},
   "source": [
    "#### Gradient Factor of slope\n",
    "Slope as limiting factor >100% to steep <br>\n",
    "Slope as factor for accessability <br>\n",
    "Slope as factor for fast cold air flow <br>\n",
    "Slope as factor for erosion <br>\n",
    "<br>\n",
    "Optimal slope is 5% to 60% <br>\n",
    "Accessability/Machinary and Erosion gets worse with increasing slope <br>\n",
    "The Advantage of a slope greater than 5% is that cold air can flow down. <br>\n",
    "\n",
    "<br>\n",
    "-Normalize data to go from 0 to 1 (1 being 100%) and invert <br>\n",
    "-normalize to have 1 as the highest value <br>\n",
    "-data above 100% will be cutoff by the unsuitable layer<br>\n"
   ]
  },
  {
   "cell_type": "code",
   "execution_count": 3,
   "metadata": {},
   "outputs": [],
   "source": [
    "# Calculation of slope suitability layer\n",
    "slope_suit = arcpy.Raster(\"slope\") / 100"
   ]
  },
  {
   "cell_type": "code",
   "execution_count": 3,
   "metadata": {},
   "outputs": [],
   "source": [
    "# condition so a slope of 10% is optimal\n",
    "slope_suit2 = Con( slope_suit, 1 - slope_suit, slope_suit*9, \"VALUE >= 0.1\")"
   ]
  },
  {
   "cell_type": "code",
   "execution_count": 4,
   "metadata": {},
   "outputs": [],
   "source": [
    "# stays optimal until 60%\n",
    "# set values over 100% slope to NoData\n",
    "slope_suit60 = Con( slope_suit, slope_suit, \"\", \"VALUE <= 1\")"
   ]
  },
  {
   "cell_type": "code",
   "execution_count": 6,
   "metadata": {},
   "outputs": [],
   "source": [
    "slope_suit60_2 = Con( ((slope_suit60 >= 0.1) & (slope_suit60 <= 0.6)) , 1, slope_suit60)"
   ]
  },
  {
   "cell_type": "code",
   "execution_count": 7,
   "metadata": {},
   "outputs": [],
   "source": [
    "slope_suit60_3 = Con( (slope_suit60 < 0.1), 0, slope_suit60 )"
   ]
  },
  {
   "cell_type": "code",
   "execution_count": 8,
   "metadata": {},
   "outputs": [],
   "source": [
    "slope_suit60_4 = Con( (slope_suit60 > 0.6), 2, slope_suit60_3 )"
   ]
  },
  {
   "cell_type": "code",
   "execution_count": 9,
   "metadata": {},
   "outputs": [],
   "source": [
    "slope_suit60_5 = Con( ((slope_suit60 >= 0.1) & (slope_suit60 <= 0.6)), 1, slope_suit60_4 )"
   ]
  },
  {
   "cell_type": "code",
   "execution_count": 10,
   "metadata": {},
   "outputs": [],
   "source": [
    "slope_suit60_6 = Con( slope_suit60_5 == 0, slope_suit60*10, slope_suit60_5 )"
   ]
  },
  {
   "cell_type": "code",
   "execution_count": 11,
   "metadata": {},
   "outputs": [],
   "source": [
    "slope_suit60_7 = Con( slope_suit60_5 == 2, (1-slope_suit60)*2.5, slope_suit60_6 )"
   ]
  },
  {
   "cell_type": "code",
   "execution_count": 4,
   "metadata": {},
   "outputs": [],
   "source": [
    "# normalize so highest value is 1\n",
    "slope_suit3 = slope_suit2*(1+1/9)"
   ]
  },
  {
   "cell_type": "code",
   "execution_count": 12,
   "metadata": {},
   "outputs": [],
   "source": [
    "slope_suit60_7.save(\"D:\\Geoinformatik\\Advanced GIS\\AdvGIS term paper\\AdvGIS term paper.gdb\\slope_suit60_7\")"
   ]
  },
  {
   "cell_type": "markdown",
   "metadata": {},
   "source": [
    "### Elevation \n",
    "Condition: not over 350m bc above is too cold <br>\n",
    "Elevation will only be used as limiting factor and not weighted"
   ]
  },
  {
   "cell_type": "code",
   "execution_count": 28,
   "metadata": {},
   "outputs": [
    {
     "name": "stdout",
     "output_type": "stream",
     "text": [
      "DEM_5m_update.tif\n"
     ]
    }
   ],
   "source": [
    "# access DEM Layer\n",
    "DEM = arcpy.Raster(\"DEM_5m_update.tif\")\n",
    "print(DEM)"
   ]
  },
  {
   "cell_type": "code",
   "execution_count": 29,
   "metadata": {},
   "outputs": [],
   "source": [
    "# Über 350m ist es zu kalt\n",
    "# create condition of Layer with DEM <= 350\n",
    "DEM350 = DEM <= 350"
   ]
  },
  {
   "cell_type": "code",
   "execution_count": 36,
   "metadata": {},
   "outputs": [],
   "source": [
    "DEM350.save(\"D:\\Geoinformatik\\Advanced GIS\\AdvGIS term paper\\AdvGIS term paper.gdb\\DEM350\")"
   ]
  },
  {
   "cell_type": "markdown",
   "metadata": {},
   "source": [
    "### Radiation\n",
    "Problems with cut-off number of radiation <br>\n",
    "No fitting numbers for a minimum requirement of solar radiation was found in literature <br>\n",
    "Even if i would have found a number there are several problems: <br>\n",
    "Depending on type of vinegrape and climate the minimum is different <br>\n",
    "I calculated the solar radiation with a model with parameters which were kept as default but can have a big effect on the overall number. One example is the Diffuse proportion which accounts for the diffusion effect in the atmosphere. <br>\n",
    "Even if i would find a number, i won't know which model was used to create the number is or how acurate my model is. <br>\n",
    "So as a solution I created the model and used the existing vineyards in the AOI to determine a minimum requirement of solar radiation. \n",
    "\n"
   ]
  },
  {
   "cell_type": "code",
   "execution_count": 12,
   "metadata": {},
   "outputs": [],
   "source": [
    "# load DSM raster and save in gdb\n",
    "DSM = arcpy.Raster(\"D:\\Geoinformatik\\Advanced GIS\\Term Paper\\datasets\\DSM_5m_update.tif\")\n",
    "DSM.save(\"D:\\Geoinformatik\\Advanced GIS\\AdvGIS term paper\\AdvGIS term paper.gdb\\DSM\")"
   ]
  },
  {
   "cell_type": "code",
   "execution_count": 2,
   "metadata": {},
   "outputs": [],
   "source": [
    "# Define AreaSolarRadiation Parameters\n",
    "skysize = 200\n",
    "timeConfig = TimeMultipleDays(2020, 92, 305)  # 1. April bis 31. Oktober\n",
    "# day_interval = default of 14 days (for calculation of sunmap)\n",
    "hourinterv = 2   # calculation for every 2h of each day\n",
    "# z_factor =  kept as default of 1\n",
    "calcDirec = 16\n",
    "# all kept at default {zenith_divisions}, {azimuth_divisions}, {diffuse_model_type}, {diffuse_proportion}, {transmittivity}\n",
    "outDirectRad = \"D:\\Geoinformatik\\Advanced GIS\\AdvGIS term paper\\AdvGIS term paper.gdb\\DirectRad\"\n",
    "outDiffuseRad = \"D:\\Geoinformatik\\Advanced GIS\\AdvGIS term paper\\AdvGIS term paper.gdb\\DiffuseRad\"\n",
    "outDirectDur = \"D:\\Geoinformatik\\Advanced GIS\\AdvGIS term paper\\AdvGIS term paper.gdb\\DirectDuration\"\n"
   ]
  },
  {
   "cell_type": "code",
   "execution_count": 3,
   "metadata": {},
   "outputs": [],
   "source": [
    "# perform Area Solar Radiation function\n",
    "# was done once with DSM and once with DEM\n",
    "AreaSolRad_DEM = AreaSolarRadiation(\"DEM_5m_update.tif\", sky_size = skysize, time_configuration = timeConfig, hour_interval = hourinterv, \n",
    "                   calculation_directions = calcDirec  # , out_direct_radiation_raster = outDirectRad, \n",
    "                   #out_diffuse_radiation_raster = outDiffuseRad,\n",
    "                   #out_direct_duration_raster = outDirectDur\n",
    "                               )"
   ]
  },
  {
   "cell_type": "code",
   "execution_count": 4,
   "metadata": {},
   "outputs": [],
   "source": [
    "AreaSolRad_DEM.save(\"D:\\Geoinformatik\\Advanced GIS\\AdvGIS term paper\\AdvGIS term paper.gdb\\AreaSolRad_DEM\")"
   ]
  },
  {
   "cell_type": "code",
   "execution_count": 3,
   "metadata": {},
   "outputs": [],
   "source": [
    "#AreaSolRad = arcpy.Raster(\"AreaSolRad\")"
   ]
  },
  {
   "cell_type": "code",
   "execution_count": 1,
   "metadata": {},
   "outputs": [],
   "source": [
    "# as kWh and save\n",
    "AreaSol_DSM_kWh = arcpy.Raster(\"AreaSol_DSM1\") / 1000\n",
    "AreaSol_DSM_kWh.save(\"D:\\Geoinformatik\\Advanced GIS\\AdvGIS term paper\\AdvGIS term paper.gdb\\AreaSol_DSM_kWh\")"
   ]
  },
  {
   "cell_type": "code",
   "execution_count": 4,
   "metadata": {},
   "outputs": [],
   "source": [
    "# layer with Radation of over 600 kWH/m2\n",
    "Sol600 = (AreaSolRad / 1000) < 600"
   ]
  },
  {
   "cell_type": "code",
   "execution_count": 5,
   "metadata": {},
   "outputs": [],
   "source": [
    "Sol600.save(\"D:\\Geoinformatik\\Advanced GIS\\AdvGIS term paper\\AdvGIS term paper.gdb\\Sol600\")"
   ]
  },
  {
   "cell_type": "markdown",
   "metadata": {},
   "source": [
    "#### Radiation Suitability Raster"
   ]
  },
  {
   "cell_type": "code",
   "execution_count": 6,
   "metadata": {},
   "outputs": [],
   "source": [
    "# Normalize \n",
    "SolRadDSM_suit = arcpy.Raster(\"AreaSolRad\")/1000000"
   ]
  },
  {
   "cell_type": "code",
   "execution_count": 7,
   "metadata": {},
   "outputs": [],
   "source": [
    "SolRadDSM_suit.save(\"D:\\Geoinformatik\\Advanced GIS\\AdvGIS term paper\\AdvGIS term paper.gdb\\SolRadDSM_suit\")"
   ]
  },
  {
   "cell_type": "code",
   "execution_count": null,
   "metadata": {},
   "outputs": [],
   "source": [
    "# Import Corine Landcover Map\n",
    "# Multiple landcover types are not suitable for vineyards i.e. urban areas or water bodies"
   ]
  },
  {
   "cell_type": "markdown",
   "metadata": {},
   "source": [
    "#### Distance to roads \n",
    "-tracks can be easily created and distance to tracks is disregarded <br>\n",
    "-roads are expensive and high distance to a road can be a limiting factor"
   ]
  },
  {
   "cell_type": "code",
   "execution_count": 1,
   "metadata": {},
   "outputs": [],
   "source": [
    "# distance to roads set to 1000m\n",
    "# create buffer around roads\n",
    "roads_buffer1000 = arcpy.Buffer_analysis(\"atkis_road_Clip1\", \"roads1000\", \"1000 Meters\", \"FULL\", \n",
    "                      \"ROUND\", \"ALL\")"
   ]
  },
  {
   "cell_type": "code",
   "execution_count": 28,
   "metadata": {},
   "outputs": [],
   "source": [
    "# euclidian distance tool to create raster with distance to roads with distance to nearest road for every pixel\n",
    "DistToRoad_raster = EucDistance(\"atkis_road_Clip1\", cell_size = 5)"
   ]
  },
  {
   "cell_type": "code",
   "execution_count": 29,
   "metadata": {},
   "outputs": [],
   "source": [
    "DistToRoad_raster.save(\"D:\\Geoinformatik\\Advanced GIS\\AdvGIS term paper\\AdvGIS term paper.gdb\\DistToRoad_raster\")"
   ]
  },
  {
   "cell_type": "code",
   "execution_count": 17,
   "metadata": {},
   "outputs": [],
   "source": [
    "# Normalize\n",
    "DistToRoad_raster_norm = DistToRoad_raster / 1963.14"
   ]
  },
  {
   "cell_type": "code",
   "execution_count": 19,
   "metadata": {},
   "outputs": [],
   "source": [
    "DistToRoad_raster_norm.save(\"D:\\Geoinformatik\\Advanced GIS\\AdvGIS term paper\\AdvGIS term paper.gdb\\DistToRoad_raster_norm\")"
   ]
  },
  {
   "cell_type": "markdown",
   "metadata": {},
   "source": [
    "#### Combined Suitability (slope, radiation, distance to roads)"
   ]
  },
  {
   "cell_type": "code",
   "execution_count": 20,
   "metadata": {},
   "outputs": [],
   "source": [
    "# Weights: Slope 3, Radiation 10, DistanceToRoad 1\n",
    "Suitability3 = 3*arcpy.Raster(\"slope_suit60_7\") + 10*arcpy.Raster(\"SolRadDSM_suit\") - 1*arcpy.Raster(\"DistToRoad_raster_norm\")"
   ]
  },
  {
   "cell_type": "code",
   "execution_count": 21,
   "metadata": {},
   "outputs": [],
   "source": [
    "# clipped to mapping extent and saved"
   ]
  },
  {
   "cell_type": "markdown",
   "metadata": {},
   "source": [
    "#### One layer for suitable/ not suitable areas"
   ]
  },
  {
   "cell_type": "code",
   "execution_count": 22,
   "metadata": {},
   "outputs": [],
   "source": [
    "# convert polygons of corine landcover areas where vineyards are not possible \n",
    "# to raster\n",
    "corine_notSuitable = arcpy.PolygonToRaster_conversion(\"Weinbau_nicht_moglich\", \"Klassenname\", \"corine_notSuitable\", cellsize = 5)"
   ]
  },
  {
   "cell_type": "code",
   "execution_count": 37,
   "metadata": {},
   "outputs": [],
   "source": [
    "# convert roads buffer to raster\n",
    "roads1000_raster = arcpy.PolygonToRaster_conversion(\"roads1000\", \"OBJECTID\" ,\"roads1000_raster\")"
   ]
  },
  {
   "cell_type": "code",
   "execution_count": 30,
   "metadata": {},
   "outputs": [],
   "source": [
    "suitable2 = (arcpy.Raster(\"Sol600\") == 0) & (arcpy.Raster(\"Slope100\") == 1) & (\n",
    "    arcpy.Raster(\"DEM350\") == 1) & IsNull(\"corine_notSuitable\") & (DistToRoad_raster <= 1000)"
   ]
  },
  {
   "cell_type": "code",
   "execution_count": 31,
   "metadata": {},
   "outputs": [],
   "source": [
    "suitable2.save(\"D:\\Geoinformatik\\Advanced GIS\\AdvGIS term paper\\AdvGIS term paper.gdb\\suitable2\")"
   ]
  },
  {
   "cell_type": "markdown",
   "metadata": {},
   "source": [
    "#### Combining Suitability Layer and not suitable areas"
   ]
  },
  {
   "cell_type": "code",
   "execution_count": 44,
   "metadata": {},
   "outputs": [],
   "source": [
    "Suitability_combined = arcpy.Raster(\"Suitability3_Clip\") + 20*arcpy.Raster(\"suitable2\") "
   ]
  },
  {
   "cell_type": "code",
   "execution_count": 45,
   "metadata": {},
   "outputs": [],
   "source": [
    "Suitability_combined = Con( Suitability_combined, Suitability_combined - 20, -1, \"VALUE >= 20\")"
   ]
  },
  {
   "cell_type": "code",
   "execution_count": 46,
   "metadata": {},
   "outputs": [],
   "source": [
    "Suitability_combined = Con( IsNull(Suitability_combined), -1, Suitability_combined)"
   ]
  },
  {
   "cell_type": "code",
   "execution_count": 47,
   "metadata": {},
   "outputs": [],
   "source": [
    "Suitability_combined.save(\"D:\\Geoinformatik\\Advanced GIS\\AdvGIS term paper\\AdvGIS term paper.gdb\\Suitability_combined\")"
   ]
  }
 ],
 "metadata": {
  "kernelspec": {
   "display_name": "ArcGISPro",
   "language": "Python",
   "name": "python3"
  },
  "language_info": {
   "file_extension": ".py",
   "name": "python",
   "version": "3"
  }
 },
 "nbformat": 4,
 "nbformat_minor": 2
}
